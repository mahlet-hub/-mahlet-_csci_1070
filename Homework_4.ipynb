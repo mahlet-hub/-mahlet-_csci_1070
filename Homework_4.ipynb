{
 "cells": [
  {
   "cell_type": "code",
   "execution_count": null,
   "id": "977b2d85-9ef0-4f11-b261-e344bad9e91f",
   "metadata": {},
   "outputs": [],
   "source": []
  },
  {
   "cell_type": "code",
   "execution_count": 8,
   "id": "b75ea81a-4e96-4a93-a7c9-df782d656a2d",
   "metadata": {},
   "outputs": [],
   "source": [
    "import numpy as np\n",
    "import pandas as pd\n",
    "\n",
    "\n",
    "import matplotlib.pyplot as plt \n",
    "\n",
    "\n",
    "\n"
   ]
  },
  {
   "cell_type": "code",
   "execution_count": 9,
   "id": "7bd28d59-0cf0-4545-8bca-2ff90afa6273",
   "metadata": {
    "scrolled": true
   },
   "outputs": [
    {
     "name": "stdout",
     "output_type": "stream",
     "text": [
      "Requirement already satisfied: matplotlib in /opt/homebrew/Cellar/jupyterlab/4.2.5/libexec/lib/python3.12/site-packages (3.9.2)\n",
      "Requirement already satisfied: contourpy>=1.0.1 in /opt/homebrew/Cellar/jupyterlab/4.2.5/libexec/lib/python3.12/site-packages (from matplotlib) (1.3.0)\n",
      "Requirement already satisfied: cycler>=0.10 in /opt/homebrew/Cellar/jupyterlab/4.2.5/libexec/lib/python3.12/site-packages (from matplotlib) (0.12.1)\n",
      "Requirement already satisfied: fonttools>=4.22.0 in /opt/homebrew/Cellar/jupyterlab/4.2.5/libexec/lib/python3.12/site-packages (from matplotlib) (4.53.1)\n",
      "Requirement already satisfied: kiwisolver>=1.3.1 in /opt/homebrew/Cellar/jupyterlab/4.2.5/libexec/lib/python3.12/site-packages (from matplotlib) (1.4.7)\n",
      "Requirement already satisfied: numpy>=1.23 in /opt/homebrew/Cellar/jupyterlab/4.2.5/libexec/lib/python3.12/site-packages (from matplotlib) (2.1.1)\n",
      "Requirement already satisfied: packaging>=20.0 in /opt/homebrew/Cellar/jupyterlab/4.2.5/libexec/lib/python3.12/site-packages (from matplotlib) (24.1)\n",
      "Requirement already satisfied: pillow>=8 in /opt/homebrew/Cellar/jupyterlab/4.2.5/libexec/lib/python3.12/site-packages (from matplotlib) (10.4.0)\n",
      "Requirement already satisfied: pyparsing>=2.3.1 in /opt/homebrew/Cellar/jupyterlab/4.2.5/libexec/lib/python3.12/site-packages (from matplotlib) (3.1.4)\n",
      "Requirement already satisfied: python-dateutil>=2.7 in /opt/homebrew/Cellar/jupyterlab/4.2.5/libexec/lib/python3.12/site-packages (from matplotlib) (2.9.0.post0)\n",
      "Requirement already satisfied: six>=1.5 in /opt/homebrew/Cellar/jupyterlab/4.2.5/libexec/lib/python3.12/site-packages (from python-dateutil>=2.7->matplotlib) (1.16.0)\n",
      "Note: you may need to restart the kernel to use updated packages.\n"
     ]
    }
   ],
   "source": [
    "%pip install matplotlib\n"
   ]
  },
  {
   "cell_type": "code",
   "execution_count": 10,
   "id": "b9cecaac-2e03-467f-9821-cd1b9f0308be",
   "metadata": {
    "scrolled": true
   },
   "outputs": [
    {
     "data": {
      "text/html": [
       "<div>\n",
       "<style scoped>\n",
       "    .dataframe tbody tr th:only-of-type {\n",
       "        vertical-align: middle;\n",
       "    }\n",
       "\n",
       "    .dataframe tbody tr th {\n",
       "        vertical-align: top;\n",
       "    }\n",
       "\n",
       "    .dataframe thead th {\n",
       "        text-align: right;\n",
       "    }\n",
       "</style>\n",
       "<table border=\"1\" class=\"dataframe\">\n",
       "  <thead>\n",
       "    <tr style=\"text-align: right;\">\n",
       "      <th></th>\n",
       "      <th>Timestamp</th>\n",
       "      <th>What is your name?</th>\n",
       "      <th>What are your pronouns?</th>\n",
       "      <th>What state/country were you born in?</th>\n",
       "      <th>How many siblings do you have?</th>\n",
       "      <th>How much experience do you have programming?</th>\n",
       "      <th>What class are you in?</th>\n",
       "      <th>Are you working while in school?</th>\n",
       "      <th>How many pets and of which kind do you have?</th>\n",
       "      <th>What is your favorite type of food?</th>\n",
       "      <th>Where do you live?</th>\n",
       "      <th>Do you take the metro?</th>\n",
       "      <th>What is your major?</th>\n",
       "      <th>How old are you?</th>\n",
       "      <th>What is your favorite TV show?</th>\n",
       "      <th>What is your favorite video game?</th>\n",
       "      <th>What is your favorite book?</th>\n",
       "      <th>Why are you taking this class?</th>\n",
       "      <th>Whats your favorite bash command?</th>\n",
       "    </tr>\n",
       "  </thead>\n",
       "  <tbody>\n",
       "    <tr>\n",
       "      <th>0</th>\n",
       "      <td>2024/09/05 6:10:09 PM EST</td>\n",
       "      <td>Alex</td>\n",
       "      <td>He/Him</td>\n",
       "      <td>Mexico</td>\n",
       "      <td>1</td>\n",
       "      <td>1-2 years</td>\n",
       "      <td>Freshman</td>\n",
       "      <td>No</td>\n",
       "      <td>1, Dog</td>\n",
       "      <td>Japanese</td>\n",
       "      <td>Off campus</td>\n",
       "      <td>No</td>\n",
       "      <td>Computer Science</td>\n",
       "      <td>18</td>\n",
       "      <td>Friends</td>\n",
       "      <td>Persona Series</td>\n",
       "      <td>Anything about mythology</td>\n",
       "      <td>My major</td>\n",
       "      <td>cd and ls</td>\n",
       "    </tr>\n",
       "    <tr>\n",
       "      <th>1</th>\n",
       "      <td>2024/09/05 6:33:51 PM EST</td>\n",
       "      <td>Tanay</td>\n",
       "      <td>He/Him</td>\n",
       "      <td>Missouri</td>\n",
       "      <td>1</td>\n",
       "      <td>0-3 months</td>\n",
       "      <td>Freshman</td>\n",
       "      <td>No</td>\n",
       "      <td>0</td>\n",
       "      <td>Mexican</td>\n",
       "      <td>On campus</td>\n",
       "      <td>No</td>\n",
       "      <td>CS/Business</td>\n",
       "      <td>18</td>\n",
       "      <td>Suits</td>\n",
       "      <td>Super Smash bros</td>\n",
       "      <td>Percy Jackson</td>\n",
       "      <td>To get a deeper understanding and basics of cs</td>\n",
       "      <td>ls</td>\n",
       "    </tr>\n",
       "    <tr>\n",
       "      <th>2</th>\n",
       "      <td>2024/09/05 6:34:21 PM EST</td>\n",
       "      <td>Akshita</td>\n",
       "      <td>She/Her</td>\n",
       "      <td>Frankfurt, Germany</td>\n",
       "      <td>1</td>\n",
       "      <td>0-3 months</td>\n",
       "      <td>Freshman</td>\n",
       "      <td>No</td>\n",
       "      <td>no pets!</td>\n",
       "      <td>Italian</td>\n",
       "      <td>On campus</td>\n",
       "      <td>No</td>\n",
       "      <td>Data Science</td>\n",
       "      <td>18</td>\n",
       "      <td>How I Met Your Mother</td>\n",
       "      <td>Mario Kart</td>\n",
       "      <td>Harry Potter</td>\n",
       "      <td>To learn programming for my major!</td>\n",
       "      <td>git commit</td>\n",
       "    </tr>\n",
       "    <tr>\n",
       "      <th>3</th>\n",
       "      <td>2024/09/05 6:35:03 PM EST</td>\n",
       "      <td>Anthony</td>\n",
       "      <td>He/Him</td>\n",
       "      <td>Wisconsin</td>\n",
       "      <td>1</td>\n",
       "      <td>0-3 months</td>\n",
       "      <td>Senior</td>\n",
       "      <td>Yes</td>\n",
       "      <td>I have two dogs and they are both at home</td>\n",
       "      <td>Italian</td>\n",
       "      <td>Off campus</td>\n",
       "      <td>No</td>\n",
       "      <td>Business Economics</td>\n",
       "      <td>21</td>\n",
       "      <td>Breaking Bad</td>\n",
       "      <td>Call of Duty</td>\n",
       "      <td>NaN</td>\n",
       "      <td>Programming has always been an interest of mine</td>\n",
       "      <td>ls</td>\n",
       "    </tr>\n",
       "    <tr>\n",
       "      <th>4</th>\n",
       "      <td>2024/09/05 6:35:56 PM EST</td>\n",
       "      <td>Nuri</td>\n",
       "      <td>He/Him</td>\n",
       "      <td>st. louis, mo</td>\n",
       "      <td>2</td>\n",
       "      <td>1-2 years</td>\n",
       "      <td>Freshman</td>\n",
       "      <td>No</td>\n",
       "      <td>0</td>\n",
       "      <td>American</td>\n",
       "      <td>On campus</td>\n",
       "      <td>No</td>\n",
       "      <td>computer science</td>\n",
       "      <td>18</td>\n",
       "      <td>Hunter x Hunter</td>\n",
       "      <td>valorant</td>\n",
       "      <td>berserk</td>\n",
       "      <td>interested in having a career in data</td>\n",
       "      <td>ls</td>\n",
       "    </tr>\n",
       "  </tbody>\n",
       "</table>\n",
       "</div>"
      ],
      "text/plain": [
       "                   Timestamp What is your name? What are your pronouns?  \\\n",
       "0  2024/09/05 6:10:09 PM EST               Alex                  He/Him   \n",
       "1  2024/09/05 6:33:51 PM EST              Tanay                  He/Him   \n",
       "2  2024/09/05 6:34:21 PM EST            Akshita                 She/Her   \n",
       "3  2024/09/05 6:35:03 PM EST            Anthony                  He/Him   \n",
       "4  2024/09/05 6:35:56 PM EST               Nuri                  He/Him   \n",
       "\n",
       "  What state/country were you born in?  How many siblings do you have?  \\\n",
       "0                               Mexico                               1   \n",
       "1                             Missouri                               1   \n",
       "2                   Frankfurt, Germany                               1   \n",
       "3                            Wisconsin                               1   \n",
       "4                        st. louis, mo                               2   \n",
       "\n",
       "  How much experience do you have programming? What class are you in?   \\\n",
       "0                                    1-2 years                Freshman   \n",
       "1                                   0-3 months                Freshman   \n",
       "2                                   0-3 months                Freshman   \n",
       "3                                   0-3 months                  Senior   \n",
       "4                                    1-2 years                Freshman   \n",
       "\n",
       "  Are you working while in school?  \\\n",
       "0                               No   \n",
       "1                               No   \n",
       "2                               No   \n",
       "3                              Yes   \n",
       "4                               No   \n",
       "\n",
       "  How many pets and of which kind do you have?  \\\n",
       "0                                       1, Dog   \n",
       "1                                            0   \n",
       "2                                     no pets!   \n",
       "3    I have two dogs and they are both at home   \n",
       "4                                            0   \n",
       "\n",
       "  What is your favorite type of food? Where do you live?  \\\n",
       "0                            Japanese         Off campus   \n",
       "1                             Mexican          On campus   \n",
       "2                             Italian          On campus   \n",
       "3                             Italian         Off campus   \n",
       "4                            American          On campus   \n",
       "\n",
       "  Do you take the metro? What is your major?  How old are you?  \\\n",
       "0                     No    Computer Science                18   \n",
       "1                     No         CS/Business                18   \n",
       "2                     No        Data Science                18   \n",
       "3                     No  Business Economics                21   \n",
       "4                     No    computer science                18   \n",
       "\n",
       "  What is your favorite TV show? What is your favorite video game?  \\\n",
       "0                        Friends                    Persona Series   \n",
       "1                          Suits                  Super Smash bros   \n",
       "2          How I Met Your Mother                        Mario Kart   \n",
       "3                   Breaking Bad                      Call of Duty   \n",
       "4                Hunter x Hunter                          valorant   \n",
       "\n",
       "  What is your favorite book?  \\\n",
       "0    Anything about mythology   \n",
       "1               Percy Jackson   \n",
       "2                Harry Potter   \n",
       "3                         NaN   \n",
       "4                     berserk   \n",
       "\n",
       "                   Why are you taking this class?   \\\n",
       "0                                         My major   \n",
       "1   To get a deeper understanding and basics of cs   \n",
       "2               To learn programming for my major!   \n",
       "3  Programming has always been an interest of mine   \n",
       "4            interested in having a career in data   \n",
       "\n",
       "  Whats your favorite bash command?  \n",
       "0                         cd and ls  \n",
       "1                                ls  \n",
       "2                        git commit  \n",
       "3                                ls  \n",
       "4                                ls  "
      ]
     },
     "execution_count": 10,
     "metadata": {},
     "output_type": "execute_result"
    }
   ],
   "source": [
    "fall_survey_df = pd.read_csv(\"CSCI_Fall_2024_survey.csv\") \n",
    "fall_survey_df.head()\n",
    "\n"
   ]
  },
  {
   "cell_type": "code",
   "execution_count": 11,
   "id": "7cc46994-0524-4641-8371-34a3448420f6",
   "metadata": {},
   "outputs": [
    {
     "data": {
      "text/plain": [
       "Index(['Timestamp', 'What is your name?', 'What are your pronouns?',\n",
       "       'What state/country were you born in?',\n",
       "       'How many siblings do you have?',\n",
       "       'How much experience do you have programming?',\n",
       "       'What class are you in? ', 'Are you working while in school?',\n",
       "       'How many pets and of which kind do you have?',\n",
       "       'What is your favorite type of food?', 'Where do you live?',\n",
       "       'Do you take the metro?', 'What is your major?', 'How old are you?',\n",
       "       'What is your favorite TV show?', 'What is your favorite video game?',\n",
       "       'What is your favorite book?', 'Why are you taking this class? ',\n",
       "       'Whats your favorite bash command?'],\n",
       "      dtype='object')"
      ]
     },
     "execution_count": 11,
     "metadata": {},
     "output_type": "execute_result"
    }
   ],
   "source": [
    "fall_survey_df.columns"
   ]
  },
  {
   "cell_type": "code",
   "execution_count": 12,
   "id": "b773df40-96d0-449b-89d3-a850f4398ea6",
   "metadata": {},
   "outputs": [
    {
     "data": {
      "text/plain": [
       "What state/country were you born in?\n",
       "Missouri                               5\n",
       "St. Louis MO                           2\n",
       "Mexico                                 1\n",
       "Kansas, Overland Park                  1\n",
       "TEXAS                                  1\n",
       "Cameroon                               1\n",
       "india                                  1\n",
       "People's Republic of China             1\n",
       "I was born in Chandigarh, India!       1\n",
       "Oklahoma                               1\n",
       "United States Missouri                 1\n",
       "st.louis mo                            1\n",
       "Saint Louis, Missouri                  1\n",
       "New Jersey                             1\n",
       "Georgia (the country not the state)    1\n",
       "Missouri, USA                          1\n",
       "India                                  1\n",
       "st. louis, mo                          1\n",
       "Wisconsin                              1\n",
       "Frankfurt, Germany                     1\n",
       "Kazakhstah                             1\n",
       "Name: count, dtype: int64"
      ]
     },
     "execution_count": 12,
     "metadata": {},
     "output_type": "execute_result"
    }
   ],
   "source": [
    "fall_survey_df[\"What state/country were you born in?\"].value_counts()"
   ]
  },
  {
   "cell_type": "code",
   "execution_count": 54,
   "id": "3dc7f88b-bf66-4060-9d15-d4a0cc636390",
   "metadata": {},
   "outputs": [
    {
     "name": "stdout",
     "output_type": "stream",
     "text": [
      "origin\n",
      "Missouri    5\n",
      "Germany     1\n",
      "Georgia     1\n",
      "Kansas      1\n",
      "China       1\n",
      "India       1\n",
      "Texas       1\n",
      "Name: count, dtype: int64\n"
     ]
    }
   ],
   "source": [
    "\n",
    "\n",
    "\n",
    "fall_survey_df[\"origin\"] = np.where(fall_survey_df[\"What state/country were you born in?\"] == \"St. Louis MO\",\"Missouri\",\n",
    "                                     np.where(fall_survey_df[\"What state/country were you born in?\"] == \"Kansas, Overland Park\",\"Kansas\",\n",
    "                                     np.where(fall_survey_df[\"What state/country were you born in?\"] == \"TEXAS\",\"Texas\",\n",
    "                                     np.where(fall_survey_df[\"What state/country were you born in?\"] == \"india\",\"India\",\n",
    "                                     np.where(fall_survey_df[\"What state/country were you born in?\"] == \"People's Republic of China\",\"China\",\n",
    "                                     np.where(fall_survey_df[\"What state/country were you born in?\"] == \"United States Missouri\",\"Missouri\",\n",
    "                                     np.where(fall_survey_df[\"What state/country were you born in?\"] == \"st.louis mo\",\"Missouri\",\n",
    "                                     np.where(fall_survey_df[\"What state/country were you born in?\"] == \"Saint Louis, Missouri\",\"Missouri\",\n",
    "                                     np.where(fall_survey_df[\"What state/country were you born in?\"] == \"Georgia (the country not the state)\",\"Georgia\",\n",
    "                                     np.where(fall_survey_df[\"What state/country were you born in?\"] == \"Missouri, USA \",\"Missouri\",\n",
    "                                     np.where(fall_survey_df[\"What state/country were you born in?\"] == \"st. louis, mo\", \"Missouri\",\n",
    "                                     np.where(fall_survey_df[\"What state/country were you born in?\"] == \"Frankfurt, Germany\",\"Germany\",None))))))))))))\n",
    "\n",
    "result_counts = fall_survey_df[\"origin\"].value_counts()\n",
    "print(result_counts)\n",
    "\n",
    "                            "
   ]
  },
  {
   "cell_type": "code",
   "execution_count": 50,
   "id": "ca9b4986-d1ae-4689-ba8a-4485f55ee961",
   "metadata": {},
   "outputs": [
    {
     "data": {
      "text/plain": [
       "How many pets and of which kind do you have?\n",
       "0                                                                                                      7\n",
       "1, Dog                                                                                                 1\n",
       "2 minature schnauzers                                                                                  1\n",
       "three dogs                                                                                             1\n",
       "no pets                                                                                                1\n",
       "had 8 dogs, not anymore                                                                                1\n",
       "1 Cat; 6 Dogs (Over two households)                                                                    1\n",
       "None :( But I really want a cat!                                                                       1\n",
       "2, dogs.                                                                                               1\n",
       "2 dogs                                                                                                 1\n",
       "2, Grumpy the exotic shorthair w heterchromia and my dog Furball is a rescue but he is just as cute    1\n",
       "1                                                                                                      1\n",
       "I have two dogs. They're bernedoodles.                                                                 1\n",
       "2 cats, one dog                                                                                        1\n",
       "1 dog and 1 cat                                                                                        1\n",
       "none                                                                                                   1\n",
       "I have two dogs and they are both at home                                                              1\n",
       "no pets!                                                                                               1\n",
       "No pets                                                                                                1\n",
       "Name: count, dtype: int64"
      ]
     },
     "execution_count": 50,
     "metadata": {},
     "output_type": "execute_result"
    }
   ],
   "source": [
    "fall_survey_df[\"How many pets and of which kind do you have?\"].value_counts()\n",
    "\n"
   ]
  },
  {
   "cell_type": "code",
   "execution_count": 55,
   "id": "a6854310-fd42-49a6-bcdf-70c91e473c88",
   "metadata": {},
   "outputs": [
    {
     "data": {
      "text/plain": [
       "origin\n",
       "2 dogs              3\n",
       "2 cats and 1 dog    1\n",
       "0                   1\n",
       "1 cat and 6 dogs    1\n",
       "8 dogs              1\n",
       "3 dogs              1\n",
       "Name: count, dtype: int64"
      ]
     },
     "execution_count": 55,
     "metadata": {},
     "output_type": "execute_result"
    }
   ],
   "source": [
    "\n",
    "fall_survey_df[\"origin\"] = np.where(fall_survey_df[\"How many pets and of which kind do you have?\"] == \"three dogs\", \"3 dogs\",\n",
    "                                     np.where(fall_survey_df[\"How many pets and of which kind do you have?\"] == \"had 8 dogs, not anymore\", \"8 dogs\",\n",
    "                                     np.where(fall_survey_df[\"How many pets and of which kind do you have?\"] == \"1 Cat; 6 Dogs (Over two households)\", \"1 cat and 6 dogs\",\n",
    "                                     np.where(fall_survey_df[\"How many pets and of which kind do you have?\"] == \"2 miniature schnauzers\", \"2 dogs\",\n",
    "                                     np.where(fall_survey_df[\"How many pets and of which kind do you have?\"] == \"None :( But I really want a cat!\", \"0\",\n",
    "                                     np.where(fall_survey_df[\"How many pets and of which kind do you have?\"] == \"2, dogs.\", \"2 dogs\",\n",
    "                                     np.where(fall_survey_df[\"How many pets and of which kind do you have?\"] == \"2, Grumpy the exotic shorthair w heterchromia and my dog Furball is a rescue but he is just as cute\", \"2 dogs\",\n",
    "                                     np.where(fall_survey_df[\"How many pets and of which kind do you have?\"] == \"I have two dogs. They're bernedoodles.\", \"2 dogs\",\n",
    "                                     np.where(fall_survey_df[\"How many pets and of which kind do you have?\"] == \"2 cats, one dog\", \"2 cats and 1 dog\",None)))))))))\n",
    "                                                                                                             \n",
    "\n",
    "fall_survey_df[\"origin\"].value_counts()    \n",
    "\n",
    "\n",
    "\n"
   ]
  },
  {
   "cell_type": "code",
   "execution_count": 16,
   "id": "98d75723-7478-40cc-9b39-e47e3ba2aa92",
   "metadata": {},
   "outputs": [
    {
     "data": {
      "text/plain": [
       "What is your favorite type of food?\n",
       "Italian             6\n",
       "Japanese            5\n",
       "Mexican             5\n",
       "American            3\n",
       "Indian              3\n",
       "Chinese             2\n",
       "all of the above    1\n",
       "korean              1\n",
       "Name: count, dtype: int64"
      ]
     },
     "execution_count": 16,
     "metadata": {},
     "output_type": "execute_result"
    }
   ],
   "source": [
    "fall_survey_df[\"What is your favorite type of food?\"].value_counts()"
   ]
  },
  {
   "cell_type": "code",
   "execution_count": 56,
   "id": "1159b0ae-ada3-442f-8b6f-b584844a5c61",
   "metadata": {},
   "outputs": [
    {
     "data": {
      "text/plain": [
       "How old are you?\n",
       "18    18\n",
       "19     4\n",
       "21     2\n",
       "20     1\n",
       "17     1\n",
       "Name: count, dtype: int64"
      ]
     },
     "execution_count": 56,
     "metadata": {},
     "output_type": "execute_result"
    }
   ],
   "source": [
    "fall_survey_df[\"How old are you?\"].value_counts()"
   ]
  },
  {
   "cell_type": "code",
   "execution_count": 17,
   "id": "52b61a7a-6559-4ad5-9c7d-d5563788fba2",
   "metadata": {},
   "outputs": [
    {
     "data": {
      "text/plain": [
       "What is your major?\n",
       "Computer Science                                                                                                 10\n",
       "Data Science                                                                                                      3\n",
       "CS/Business                                                                                                       1\n",
       "Business Economics                                                                                                1\n",
       "computer science                                                                                                  1\n",
       "cs/ finance                                                                                                       1\n",
       "Computer Science; considering an additional major or a minor                                                      1\n",
       "comp sci                                                                                                          1\n",
       "Biology w/ evolutionary bio minor                                                                                 1\n",
       "Data science                                                                                                      1\n",
       "Computer Science, B.A. (I might switch to B.S., but I wish to pursue a career in digital IP law, eventually!)     1\n",
       "TBD                                                                                                               1\n",
       "computer science                                                                                                  1\n",
       "Computer science                                                                                                  1\n",
       "Economics                                                                                                         1\n",
       "Name: count, dtype: int64"
      ]
     },
     "execution_count": 17,
     "metadata": {},
     "output_type": "execute_result"
    }
   ],
   "source": [
    "fall_survey_df[\"What is your major?\"].value_counts()"
   ]
  },
  {
   "cell_type": "code",
   "execution_count": 97,
   "id": "c8884ee9-6698-4cf8-a1c1-c83c17d8a437",
   "metadata": {},
   "outputs": [
    {
     "data": {
      "text/plain": [
       "origin\n",
       "Computer Science                 2\n",
       "Computer Science and Business    1\n",
       "Business                         1\n",
       "Computer Sciences                1\n",
       "Biology                          1\n",
       "Name: count, dtype: int64"
      ]
     },
     "execution_count": 97,
     "metadata": {},
     "output_type": "execute_result"
    }
   ],
   "source": [
    "\n",
    "fall_survey_df[\"origin\"] = np.where(fall_survey_df[\"What is your major?\"] == \"CS/Business\",\"Computer Science and Business\",\n",
    "                                     np.where(fall_survey_df[\"What is your major?\"] == \"Business Economics\",\"Business\",\n",
    "                                     np.where(fall_survey_df[\"What is your major?\"] == \"cs/ finance\",\"Computer Science and Finance\",\n",
    "                                     np.where(fall_survey_df[\"What is your major?\"] == \"Computer Science; considering an additional major or a minor\",\"Computer Sciences\",\n",
    "                                     np.where(fall_survey_df[\"What is your major?\"] == \"comp sci\",\"Computer Science\",\n",
    "                                     np.where(fall_survey_df[\"What is your major?\"] == \"Biology w/ evolutionary bio minor\",\"Biology\",\n",
    "                                     np.where(fall_survey_df[\"What is your major?\"] == \"Computer Science B.A., (I might switch to B.S., but I wish to pursue a career in digital IP law, eventually!)\",\"Computer Science\",\n",
    "                                     np.where(fall_survey_df[\"What is your major?\"] == \"Computer science\",\"Computer Science\",None))))))))\n",
    "                                                                                                             \n",
    "\n",
    "fall_survey_df[\"origin\"].value_counts()    \n",
    "\n",
    "\n",
    "\n"
   ]
  },
  {
   "cell_type": "code",
   "execution_count": 75,
   "id": "bb9623d4-94ed-499f-97f4-ae9b1327d35c",
   "metadata": {},
   "outputs": [
    {
     "data": {
      "image/png": "[encoded data removed]",
      "text/plain": [
       "<Figure size 640x480 with 1 Axes>"
      ]
     },
     "metadata": {},
     "output_type": "display_data"
    }
   ],
   "source": [
    "import matplotlib.pyplot as plt\n",
    "import numpy as np\n",
    "\n",
    "x = np.array([\"Computer Science\", \"Computer Science and Business\", \"Business\", \"Biology\"])\n",
    "y = np.array([4, 1, 1, 1])\n",
    "\n",
    "plt.bar(x,y)\n",
    "plt.show()"
   ]
  },
  {
   "cell_type": "code",
   "execution_count": 76,
   "id": "85b821c2-1f18-4dab-a5d4-a12fb899690b",
   "metadata": {},
   "outputs": [
    {
     "data": {
      "image/png": "[encoded data removed]",
      "text/plain": [
       "<Figure size 640x480 with 1 Axes>"
      ]
     },
     "metadata": {},
     "output_type": "display_data"
    }
   ],
   "source": [
    "import matplotlib.pyplot as plt\n",
    "import numpy as np\n",
    "\n",
    "x = np.array([\"2 dogs\",\"2 cats and 1 dog\",\"0\",\"1 cat and 6 dogs\",\"8 dogs\",\"3 dogs\",])\n",
    "y = np.array([3,1,1,1,1,1,])\n",
    "\n",
    "plt.scatter(x, y)\n",
    "plt.show()"
   ]
  },
  {
   "cell_type": "code",
   "execution_count": 109,
   "id": "c05b390a-f132-4cd8-8b46-7ac5ec20475b",
   "metadata": {},
   "outputs": [
    {
     "data": {
      "image/png": "[encoded data removed]",
      "text/plain": [
       "<Figure size 640x480 with 1 Axes>"
      ]
     },
     "metadata": {},
     "output_type": "display_data"
    }
   ],
   "source": [
    "import matplotlib.pyplot as plt\n",
    "import numpy as np\n",
    "\n",
    "y = np.array([6, 5, 5, 3, 3, 2, 1, 1])\n",
    "mylabels = ([\"Italian\",\"Japanese\",\"Mexican\",\"Amercian\",\"Indian\",\"Chinese\",\"all for the above\",\"korean\"])\n",
    "\n",
    "plt.pie(y, labels = mylabels)\n",
    "plt.show() \n"
   ]
  },
  {
   "cell_type": "code",
   "execution_count": 123,
   "id": "71c81386-bc62-46c3-a0bb-8a6d37e1b3ff",
   "metadata": {},
   "outputs": [
    {
     "data": {
      "image/png": "[encoded data removed]",
      "text/plain": [
       "<Figure size 640x480 with 1 Axes>"
      ]
     },
     "metadata": {},
     "output_type": "display_data"
    }
   ],
   "source": [
    "import matplotlib.pyplot as plt\n",
    "import numpy as np\n",
    "\n",
    "y = np.array([ 5, 1, 1, 1, 1, 1, 1])\n",
    "mylabels = ([\"Missouri\",\"Germany\",\"Georgia\",\"Kansas\",\"China\",\"India\",\"Texas\"])\n",
    "\n",
    "plt.xlabel(\"State/Country\")\n",
    "plt.ylabel(\"# of people\")\n",
    "\n",
    "\n",
    "plt.plot(y,mylabels)\n",
    "\n",
    "plt.grid()\n",
    "\n",
    "plt.show()\n"
   ]
  },
  {
   "cell_type": "code",
   "execution_count": 127,
   "id": "8fcbc3b7-ce40-4de4-bb0c-5ef12497e050",
   "metadata": {},
   "outputs": [
    {
     "data": {
      "image/png": "[encoded data removed]",
      "text/plain": [
       "<Figure size 640x480 with 1 Axes>"
      ]
     },
     "metadata": {},
     "output_type": "display_data"
    }
   ],
   "source": [
    "import matplotlib.pyplot as plt\n",
    "import numpy as np\n",
    "\n",
    "y = np.array([ 18 , 4, 2, 1, 1])\n",
    "mylabels = ([\"18\",\"19\",\"20\",\"21\",\"17\"])\n",
    "\n",
    "plt.xlabel(\"How old are you?\")\n",
    "plt.ylabel(\"# of people\")\n",
    "\n",
    "\n",
    "plt.plot(y, mylabels)\n",
    "\n",
    "\n",
    "plt.show()"
   ]
  },
  {
   "cell_type": "code",
   "execution_count": null,
   "id": "49505750-fef0-4a01-9bf7-589dd2b9dd36",
   "metadata": {},
   "outputs": [],
   "source": []
  }
 ],
 "metadata": {
  "kernelspec": {
   "display_name": "Python 3 (ipykernel)",
   "language": "python",
   "name": "python3"
  },
  "language_info": {
   "codemirror_mode": {
    "name": "ipython",
    "version": 3
   },
   "file_extension": ".py",
   "mimetype": "text/x-python",
   "name": "python",
   "nbconvert_exporter": "python",
   "pygments_lexer": "ipython3",
   "version": "3.12.5"
  }
 },
 "nbformat": 4,
 "nbformat_minor": 5
}
