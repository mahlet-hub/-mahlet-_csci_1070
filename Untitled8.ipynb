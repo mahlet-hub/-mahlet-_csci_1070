{
 "cells": [
  {
   "cell_type": "code",
   "execution_count": 2,
   "id": "bc9f9ad7-da39-4789-9fef-7c4b8103cff6",
   "metadata": {},
   "outputs": [
    {
     "name": "stdout",
     "output_type": "stream",
     "text": [
      "['a', 'b']\n"
     ]
    }
   ],
   "source": [
    "def no_numbers (values):\n",
    "   \n",
    "    return [item for item in values if not isinstance(item, (int, float) )]\n",
    "\n",
    "list = [1, 2, 'a', 'b', 7.6]\n",
    "filtered_list = no_numbers (list)\n",
    "print (filtered_list)"
   ]
  },
  {
   "cell_type": "code",
   "execution_count": 9,
   "id": "2203cd25-7681-42cc-b254-f7433869bfa9",
   "metadata": {},
   "outputs": [
    {
     "data": {
      "text/plain": [
       "'fizzbuzz'"
      ]
     },
     "execution_count": 9,
     "metadata": {},
     "output_type": "execute_result"
    }
   ],
   "source": [
    "def fizzbuzz (x: int) -> str:\n",
    "\n",
    "    if x % 3 == 0 and x % 5 == 0: \n",
    "\n",
    "        return \"fizzbuzz\"\n",
    "\n",
    "    elif x % 3 == 0: \n",
    "                                                                      \n",
    "        return \"fizz\"\n",
    "\n",
    "    elif x % 5 == 0: \n",
    "\n",
    "        return \"buzz\"\n",
    "\n",
    "    else:\n",
    "        return \"lol\"\n",
    "\n",
    "x = 15 \n",
    "\n",
    "fizzbuzz(x)"
   ]
  }
 ],
 "metadata": {
  "kernelspec": {
   "display_name": "Python 3 (ipykernel)",
   "language": "python",
   "name": "python3"
  },
  "language_info": {
   "codemirror_mode": {
    "name": "ipython",
    "version": 3
   },
   "file_extension": ".py",
   "mimetype": "text/x-python",
   "name": "python",
   "nbconvert_exporter": "python",
   "pygments_lexer": "ipython3",
   "version": "3.12.7"
  }
 },
 "nbformat": 4,
 "nbformat_minor": 5
}
